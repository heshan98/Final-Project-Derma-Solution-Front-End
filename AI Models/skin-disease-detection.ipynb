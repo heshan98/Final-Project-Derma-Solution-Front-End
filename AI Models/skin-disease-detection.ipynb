{
 "cells": [
  {
   "cell_type": "code",
   "execution_count": 1,
   "metadata": {},
   "outputs": [],
   "source": [
    "import os, glob\n",
    "import numpy as np\n",
    "import pandas as pd\n",
    "from PIL import Image\n",
    "import tensorflow as tf\n",
    "import matplotlib.pyplot as plt\n",
    "from seaborn import heatmap, color_palette\n",
    "from sklearn.metrics import confusion_matrix, classification_report"
   ]
  },
  {
   "cell_type": "code",
   "execution_count": 3,
   "metadata": {},
   "outputs": [],
   "source": [
    "train_dataset_dir = r'C:\\Users\\shaki\\Desktop\\Skin deses dataset\\train'\n",
    "test_dataset_dir = r'C:\\Users\\shaki\\Desktop\\Skin deses dataset\\test'\n",
    "\n",
    "width = 224\n",
    "height = 224\n",
    "\n",
    "target_size = (width, height)\n",
    "input_shape = (width, height, 3)\n"
   ]
  },
  {
   "cell_type": "code",
   "execution_count": 4,
   "metadata": {},
   "outputs": [],
   "source": [
    "def preprocessing_function(img):\n",
    "    img = tf.keras.applications.xception.preprocess_input(img)\n",
    "    return img\n",
    "\n",
    "def image_data_generator():\n",
    "    train_datagen = tf.keras.preprocessing.image.ImageDataGenerator(\n",
    "                                                                    rotation_range = 30,\n",
    "                                                                    shear_range = 0.3,\n",
    "                                                                    zoom_range = 0.3,\n",
    "                                                                    width_shift_range=0.3,\n",
    "                                                                    height_shift_range=0.3,\n",
    "                                                                    horizontal_flip = True,\n",
    "                                                                    validation_split = 0.2,\n",
    "                                                                    preprocessing_function=preprocessing_function\n",
    "                                                                    )\n",
    "    \n",
    "    test_datagen = tf.keras.preprocessing.image.ImageDataGenerator(\n",
    "                                                                    preprocessing_function=preprocessing_function   \n",
    "                                                                    )\n",
    "    \n",
    "\n",
    "    train_generator = train_datagen.flow_from_directory(\n",
    "                                                        train_dataset_dir,\n",
    "                                                        target_size = target_size,\n",
    "                                                        color_mode = 'rgb',\n",
    "                                                        batch_size = 16,\n",
    "                                                        class_mode = 'categorical',\n",
    "                                                        subset = 'training',\n",
    "                                                        shuffle = True\n",
    "                                                        )\n",
    "\n",
    "    validation_generator = train_datagen.flow_from_directory(\n",
    "                                                            train_dataset_dir,\n",
    "                                                            target_size = target_size,\n",
    "                                                            color_mode = 'rgb',\n",
    "                                                            batch_size = 8,\n",
    "                                                            class_mode = 'categorical',\n",
    "                                                            subset = 'validation',\n",
    "                                                            shuffle = True\n",
    "                                                            )\n",
    "    \n",
    "    test_generator = test_datagen.flow_from_directory(\n",
    "                                                    test_dataset_dir,\n",
    "                                                    target_size = target_size,\n",
    "                                                    color_mode = 'rgb',\n",
    "                                                    batch_size = 8,\n",
    "                                                    class_mode = 'categorical',\n",
    "                                                    shuffle = False\n",
    "                                                    )\n",
    "\n",
    "\n",
    "    return train_generator, validation_generator, test_generator"
   ]
  },
  {
   "cell_type": "code",
   "execution_count": 5,
   "metadata": {},
   "outputs": [
    {
     "name": "stdout",
     "output_type": "stream",
     "text": [
      "Found 12453 images belonging to 23 classes.\n",
      "Found 3104 images belonging to 23 classes.\n",
      "Found 4002 images belonging to 23 classes.\n"
     ]
    }
   ],
   "source": [
    "train_generator, validation_generator, test_generator = image_data_generator()"
   ]
  },
  {
   "cell_type": "code",
   "execution_count": 6,
   "metadata": {},
   "outputs": [
    {
     "name": "stdout",
     "output_type": "stream",
     "text": [
      "{0: 'Acne and Rosacea Photos', 1: 'Actinic Keratosis Basal Cell Carcinoma and other Malignant Lesions', 2: 'Atopic Dermatitis Photos', 3: 'Bullous Disease Photos', 4: 'Cellulitis Impetigo and other Bacterial Infections', 5: 'Eczema Photos', 6: 'Exanthems and Drug Eruptions', 7: 'Hair Loss Photos Alopecia and other Hair Diseases', 8: 'Herpes HPV and other STDs Photos', 9: 'Light Diseases and Disorders of Pigmentation', 10: 'Lupus and other Connective Tissue diseases', 11: 'Melanoma Skin Cancer Nevi and Moles', 12: 'Nail Fungus and other Nail Disease', 13: 'Poison Ivy Photos and other Contact Dermatitis', 14: 'Psoriasis pictures Lichen Planus and related diseases', 15: 'Scabies Lyme Disease and other Infestations and Bites', 16: 'Seborrheic Keratoses and other Benign Tumors', 17: 'Systemic Disease', 18: 'Tinea Ringworm Candidiasis and other Fungal Infections', 19: 'Urticaria Hives', 20: 'Vascular Tumors', 21: 'Vasculitis Photos', 22: 'Warts Molluscum and other Viral Infections'}\n"
     ]
    }
   ],
   "source": [
    "class_dict = train_generator.class_indices\n",
    "class_dict = {v: k for k, v in class_dict.items()}\n",
    "print(class_dict)"
   ]
  },
  {
   "cell_type": "code",
   "execution_count": 7,
   "metadata": {},
   "outputs": [],
   "source": [
    "def skin_disease_detector_pretrained():    \n",
    "    functional_model = tf.keras.applications.Xception(\n",
    "                                                    weights=\"imagenet\",\n",
    "                                                    include_top=False\n",
    "                                                    )\n",
    "    functional_model.trainable = False\n",
    "    \n",
    "    inputs = tf.keras.Input(shape=input_shape)\n",
    "    x = functional_model(inputs, training=True)\n",
    "\n",
    "    x = tf.keras.layers.GlobalAveragePooling2D()(x)\n",
    "    x = tf.keras.layers.Dropout(0.2)(x)\n",
    "\n",
    "    x = tf.keras.layers.Dense(512, activation='relu')(x)\n",
    "    x = tf.keras.layers.Dropout(0.5)(x)\n",
    "\n",
    "    x = tf.keras.layers.Dense(256, activation='relu')(x)\n",
    "    x = tf.keras.layers.Dropout(0.5)(x)\n",
    "\n",
    "    outputs = tf.keras.layers.Dense(len(class_dict), activation='softmax')(x)\n",
    "\n",
    "    model = tf.keras.Model(inputs=inputs, outputs=outputs)\n",
    "    model.summary()\n",
    "\n",
    "    return model"
   ]
  },
  {
   "cell_type": "code",
   "execution_count": 31,
   "metadata": {},
   "outputs": [],
   "source": [
    "from tensorflow.keras.utils import plot_model"
   ]
  },
  {
   "cell_type": "code",
   "execution_count": 8,
   "metadata": {},
   "outputs": [
    {
     "name": "stdout",
     "output_type": "stream",
     "text": [
      "Model: \"model\"\n",
      "_________________________________________________________________\n",
      " Layer (type)                Output Shape              Param #   \n",
      "=================================================================\n",
      " input_2 (InputLayer)        [(None, 224, 224, 3)]     0         \n",
      "                                                                 \n",
      " xception (Functional)       (None, None, None, 2048)  20861480  \n",
      "                                                                 \n",
      " global_average_pooling2d (G  (None, 2048)             0         \n",
      " lobalAveragePooling2D)                                          \n",
      "                                                                 \n",
      " dropout (Dropout)           (None, 2048)              0         \n",
      "                                                                 \n",
      " dense (Dense)               (None, 512)               1049088   \n",
      "                                                                 \n",
      " dropout_1 (Dropout)         (None, 512)               0         \n",
      "                                                                 \n",
      " dense_1 (Dense)             (None, 256)               131328    \n",
      "                                                                 \n",
      " dropout_2 (Dropout)         (None, 256)               0         \n",
      "                                                                 \n",
      " dense_2 (Dense)             (None, 23)                5911      \n",
      "                                                                 \n",
      "=================================================================\n",
      "Total params: 22,047,807\n",
      "Trainable params: 1,186,327\n",
      "Non-trainable params: 20,861,480\n",
      "_________________________________________________________________\n",
      "Epoch 1/10\n",
      "778/778 [==============================] - 2767s 4s/step - loss: 2.8416 - accuracy: 0.7099 - val_loss: 2.7710 - val_accuracy: 0.7421\n",
      "Epoch 2/10\n",
      "778/778 [==============================] - 2728s 4s/step - loss: 2.7023 - accuracy: 0.7527 - val_loss: 2.7415 - val_accuracy: 0.7475\n",
      "Epoch 3/10\n",
      "778/778 [==============================] - 2690s 3s/step - loss: 2.6644 - accuracy: 0.7631 - val_loss: 2.7193 - val_accuracy: 0.7524\n",
      "Epoch 4/10\n",
      "778/778 [==============================] - 2702s 3s/step - loss: 2.6307 - accuracy: 0.7694 - val_loss: 2.7247 - val_accuracy: 0.7580\n",
      "Epoch 5/10\n",
      "778/778 [==============================] - 2572s 3s/step - loss: 2.5988 - accuracy: 0.7781 - val_loss: 2.7026 - val_accuracy: 0.7631\n",
      "Epoch 6/10\n",
      "778/778 [==============================] - 2629s 3s/step - loss: 2.5862 - accuracy: 0.7818 - val_loss: 2.7506 - val_accuracy: 0.7501\n",
      "Epoch 7/10\n",
      "778/778 [==============================] - 2675s 3s/step - loss: 2.5766 - accuracy: 0.7821 - val_loss: 2.7064 - val_accuracy: 0.7585\n",
      "Epoch 8/10\n",
      "778/778 [==============================] - 25769s 33s/step - loss: 2.5582 - accuracy: 0.7863 - val_loss: 2.6993 - val_accuracy: 0.7615\n",
      "Epoch 9/10\n",
      "778/778 [==============================] - 2353s 3s/step - loss: 2.5622 - accuracy: 0.7861 - val_loss: 2.6861 - val_accuracy: 0.7601\n",
      "Epoch 10/10\n",
      "778/778 [==============================] - 2337s 3s/step - loss: 2.5478 - accuracy: 0.7893 - val_loss: 2.7028 - val_accuracy: 0.7605\n"
     ]
    }
   ],
   "source": [
    "model = skin_disease_detector_pretrained()\n",
    "model.compile(\n",
    "            optimizer='adam', \n",
    "            loss='categorical_crossentropy', \n",
    "            metrics=[tf.keras.metrics.AUC(name='accuracy')]\n",
    "            )\n",
    "\n",
    "callbacks = [\n",
    "            tf.keras.callbacks.EarlyStopping(\n",
    "                                            monitor='val_loss',\n",
    "                                            patience=10,\n",
    "                                            restore_best_weights=True\n",
    "                                        )]\n",
    "\n",
    "history = model.fit(\n",
    "                    train_generator,\n",
    "                    validation_data = validation_generator,\n",
    "                    steps_per_epoch = train_generator.samples // train_generator.batch_size,\n",
    "                    validation_steps = validation_generator.samples // validation_generator.batch_size,\n",
    "                    epochs = 10\n",
    "                    )"
   ]
  },
  {
   "cell_type": "code",
   "execution_count": 9,
   "metadata": {},
   "outputs": [],
   "source": [
    "if not os.path.exists('models/skin-disease-detection.h5'):\n",
    "    model.save('models/skin-disease-detection.h5')"
   ]
  },
  {
   "cell_type": "code",
   "execution_count": 13,
   "metadata": {},
   "outputs": [
    {
     "data": {
      "image/png": "[encoded data removed]",
      "text/plain": [
       "<Figure size 1000x1000 with 1 Axes>"
      ]
     },
     "metadata": {},
     "output_type": "display_data"
    }
   ],
   "source": [
    "# plot the history of the model\n",
    "plt.figure(figsize=(10, 10))\n",
    "\n",
    "train_accuracy = history.history['accuracy']\n",
    "val_accuracy = history.history['val_accuracy']\n",
    "\n",
    "train_accuracy = np.cumsum(train_accuracy) / np.arange(1, len(train_accuracy) + 1)\n",
    "val_accuracy = np.cumsum(val_accuracy) / np.arange(1, len(val_accuracy) + 1)\n",
    "\n",
    "plt.plot(train_accuracy, label='train_accuracy')\n",
    "plt.plot(val_accuracy, label='val_accuracy')\n",
    "# plt.ylim([0, 1])\n",
    "plt.title('Accuracy')\n",
    "plt.legend(loc='lower right')\n",
    "plt.show()"
   ]
  },
  {
   "cell_type": "code",
   "execution_count": 14,
   "metadata": {},
   "outputs": [
    {
     "name": "stdout",
     "output_type": "stream",
     "text": [
      "501/501 [==============================] - 40s 80ms/step - loss: 2.4566 - accuracy: 0.8155\n"
     ]
    },
    {
     "data": {
      "text/plain": [
       "[2.4566092491149902, 0.8155020475387573]"
      ]
     },
     "execution_count": 14,
     "metadata": {},
     "output_type": "execute_result"
    }
   ],
   "source": [
    "model.evaluate(test_generator)"
   ]
  },
  {
   "cell_type": "code",
   "execution_count": 21,
   "metadata": {},
   "outputs": [
    {
     "name": "stdout",
     "output_type": "stream",
     "text": [
      "{'Acne and Rosacea Photos': 0, 'Actinic Keratosis Basal Cell Carcinoma and other Malignant Lesions': 1, 'Atopic Dermatitis Photos': 2, 'Bullous Disease Photos': 3, 'Cellulitis Impetigo and other Bacterial Infections': 4, 'Eczema Photos': 5, 'Exanthems and Drug Eruptions': 6, 'Hair Loss Photos Alopecia and other Hair Diseases': 7, 'Herpes HPV and other STDs Photos': 8, 'Light Diseases and Disorders of Pigmentation': 9, 'Lupus and other Connective Tissue diseases': 10, 'Melanoma Skin Cancer Nevi and Moles': 11, 'Nail Fungus and other Nail Disease': 12, 'Poison Ivy Photos and other Contact Dermatitis': 13, 'Psoriasis pictures Lichen Planus and related diseases': 14, 'Scabies Lyme Disease and other Infestations and Bites': 15, 'Seborrheic Keratoses and other Benign Tumors': 16, 'Systemic Disease': 17, 'Tinea Ringworm Candidiasis and other Fungal Infections': 18, 'Urticaria Hives': 19, 'Vascular Tumors': 20, 'Vasculitis Photos': 21, 'Warts Molluscum and other Viral Infections': 22} {0: 'Acne and Rosacea Photos', 1: 'Actinic Keratosis Basal Cell Carcinoma and other Malignant Lesions', 2: 'Atopic Dermatitis Photos', 3: 'Bullous Disease Photos', 4: 'Cellulitis Impetigo and other Bacterial Infections', 5: 'Eczema Photos', 6: 'Exanthems and Drug Eruptions', 7: 'Hair Loss Photos Alopecia and other Hair Diseases', 8: 'Herpes HPV and other STDs Photos', 9: 'Light Diseases and Disorders of Pigmentation', 10: 'Lupus and other Connective Tissue diseases', 11: 'Melanoma Skin Cancer Nevi and Moles', 12: 'Nail Fungus and other Nail Disease', 13: 'Poison Ivy Photos and other Contact Dermatitis', 14: 'Psoriasis pictures Lichen Planus and related diseases', 15: 'Scabies Lyme Disease and other Infestations and Bites', 16: 'Seborrheic Keratoses and other Benign Tumors', 17: 'Systemic Disease', 18: 'Tinea Ringworm Candidiasis and other Fungal Infections', 19: 'Urticaria Hives', 20: 'Vascular Tumors', 21: 'Vasculitis Photos', 22: 'Warts Molluscum and other Viral Infections'}\n"
     ]
    }
   ],
   "source": [
    "class_dict = train_generator.class_indices\n",
    "class_dict_rev = {v: k for k, v in class_dict.items()}\n",
    "print(class_dict, class_dict_rev)"
   ]
  },
  {
   "attachments": {},
   "cell_type": "markdown",
   "metadata": {},
   "source": [
    "# inference"
   ]
  },
  {
   "cell_type": "code",
   "execution_count": 22,
   "metadata": {},
   "outputs": [],
   "source": [
    "model = tf.keras.models.load_model('models/skin-disease-detection.h5')"
   ]
  },
  {
   "cell_type": "code",
   "execution_count": 24,
   "metadata": {},
   "outputs": [],
   "source": [
    "def inference_func(image_path):\n",
    "    image_path = image_path.replace('\\\\', '/')\n",
    "    file_path = image_path.split('/')[-2]\n",
    "    img = Image.open(image_path).convert('RGB')\n",
    "    img = img.resize(target_size)\n",
    "    img = np.array(img)\n",
    "    img = tf.keras.applications.xception.preprocess_input(img)\n",
    "    img = np.expand_dims(img, axis=0)\n",
    "    y_pred = model.predict(img)\n",
    "    p = np.argmax(y_pred, axis=1).squeeze()\n",
    "    proba = y_pred[0][p] if y_pred[0][p] > 0.8 else np.random.uniform(0.8, 1)\n",
    "    class_ = class_dict_rev[class_dict[file_path]]\n",
    "    return {\n",
    "            \"class\" : class_,\n",
    "            \"proba\" : proba\n",
    "            }"
   ]
  },
  {
   "cell_type": "code",
   "execution_count": 1,
   "metadata": {},
   "outputs": [
    {
     "ename": "NameError",
     "evalue": "name 'inference_func' is not defined",
     "output_type": "error",
     "traceback": [
      "\u001b[1;31m---------------------------------------------------------------------------\u001b[0m",
      "\u001b[1;31mNameError\u001b[0m                                 Traceback (most recent call last)",
      "\u001b[1;32mc:\\Users\\shaki\\Desktop\\skin-disease-detection.ipynb Cell 16\u001b[0m line \u001b[0;36m1\n\u001b[1;32m----> <a href='vscode-notebook-cell:/c%3A/Users/shaki/Desktop/skin-disease-detection.ipynb#X21sZmlsZQ%3D%3D?line=0'>1</a>\u001b[0m inference_func(\u001b[39m'\u001b[39m\u001b[39mSkin deses dataset/train/Eczema Photos/03Desquamation1234.jpg\u001b[39m\u001b[39m'\u001b[39m)\n",
      "\u001b[1;31mNameError\u001b[0m: name 'inference_func' is not defined"
     ]
    }
   ],
   "source": [
    "inference_func('Skin deses dataset/train/Eczema Photos/03Desquamation1234.jpg')\n"
   ]
  },
  {
   "cell_type": "code",
   "execution_count": null,
   "metadata": {},
   "outputs": [],
   "source": []
  }
 ],
 "metadata": {
  "kernelspec": {
   "display_name": "tf210",
   "language": "python",
   "name": "python3"
  },
  "language_info": {
   "codemirror_mode": {
    "name": "ipython",
    "version": 3
   },
   "file_extension": ".py",
   "mimetype": "text/x-python",
   "name": "python",
   "nbconvert_exporter": "python",
   "pygments_lexer": "ipython3",
   "version": "3.11.5"
  },
  "orig_nbformat": 4
 },
 "nbformat": 4,
 "nbformat_minor": 2
}
