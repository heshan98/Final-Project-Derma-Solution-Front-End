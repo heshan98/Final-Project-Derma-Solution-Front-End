{
 "cells": [
  {
   "cell_type": "code",
   "execution_count": 1,
   "metadata": {},
   "outputs": [],
   "source": [
    "import os, glob\n",
    "import numpy as np\n",
    "import pandas as pd\n",
    "from PIL import Image\n",
    "import tensorflow as tf\n",
    "import matplotlib.pyplot as plt\n",
    "from seaborn import heatmap, color_palette\n",
    "from sklearn.metrics import confusion_matrix, classification_report"
   ]
  },
  {
   "cell_type": "code",
   "execution_count": 2,
   "metadata": {},
   "outputs": [],
   "source": [
    "train_dataset_dir = r'C:\\Users\\shaki\\Desktop\\First Model\\train'\n",
    "test_dataset_dir = r'C:\\Users\\shaki\\Desktop\\First Model\\test'\n",
    "\n",
    "width = 224\n",
    "height = 224\n",
    "\n",
    "target_size = (width, height)\n",
    "input_shape = (width, height, 3)\n"
   ]
  },
  {
   "cell_type": "code",
   "execution_count": 3,
   "metadata": {},
   "outputs": [],
   "source": [
    "def preprocessing_function(img):\n",
    "    img = tf.keras.applications.xception.preprocess_input(img)\n",
    "    return img\n",
    "\n",
    "def image_data_generator():\n",
    "    train_datagen = tf.keras.preprocessing.image.ImageDataGenerator(\n",
    "                                                                    rotation_range = 30,\n",
    "                                                                    shear_range = 0.3,\n",
    "                                                                    zoom_range = 0.3,\n",
    "                                                                    width_shift_range=0.3,\n",
    "                                                                    height_shift_range=0.3,\n",
    "                                                                    horizontal_flip = True,\n",
    "                                                                    validation_split = 0.2,\n",
    "                                                                    preprocessing_function=preprocessing_function\n",
    "                                                                    )\n",
    "    \n",
    "    test_datagen = tf.keras.preprocessing.image.ImageDataGenerator(\n",
    "                                                                    preprocessing_function=preprocessing_function   \n",
    "                                                                    )\n",
    "    \n",
    "\n",
    "    train_generator = train_datagen.flow_from_directory(\n",
    "                                                        train_dataset_dir,\n",
    "                                                        target_size = target_size,\n",
    "                                                        color_mode = 'rgb',\n",
    "                                                        batch_size = 16,\n",
    "                                                        class_mode = 'categorical',\n",
    "                                                        subset = 'training',\n",
    "                                                        shuffle = True\n",
    "                                                        )\n",
    "\n",
    "    validation_generator = train_datagen.flow_from_directory(\n",
    "                                                            train_dataset_dir,\n",
    "                                                            target_size = target_size,\n",
    "                                                            color_mode = 'rgb',\n",
    "                                                            batch_size = 8,\n",
    "                                                            class_mode = 'categorical',\n",
    "                                                            subset = 'validation',\n",
    "                                                            shuffle = True\n",
    "                                                            )\n",
    "    \n",
    "    test_generator = test_datagen.flow_from_directory(\n",
    "                                                    test_dataset_dir,\n",
    "                                                    target_size = target_size,\n",
    "                                                    color_mode = 'rgb',\n",
    "                                                    batch_size = 8,\n",
    "                                                    class_mode = 'categorical',\n",
    "                                                    shuffle = False\n",
    "                                                    )\n",
    "\n",
    "\n",
    "    return train_generator, validation_generator, test_generator"
   ]
  },
  {
   "cell_type": "code",
   "execution_count": 4,
   "metadata": {},
   "outputs": [
    {
     "name": "stdout",
     "output_type": "stream",
     "text": [
      "Found 12812 images belonging to 2 classes.\n",
      "Found 3201 images belonging to 2 classes.\n",
      "Found 15534 images belonging to 2 classes.\n"
     ]
    }
   ],
   "source": [
    "train_generator, validation_generator, test_generator = image_data_generator()"
   ]
  },
  {
   "cell_type": "code",
   "execution_count": 5,
   "metadata": {},
   "outputs": [
    {
     "name": "stdout",
     "output_type": "stream",
     "text": [
      "{0: 'no disease', 1: 'skin disease'}\n"
     ]
    }
   ],
   "source": [
    "class_dict = train_generator.class_indices\n",
    "class_dict = {v: k for k, v in class_dict.items()}\n",
    "print(class_dict)"
   ]
  },
  {
   "cell_type": "code",
   "execution_count": 6,
   "metadata": {},
   "outputs": [],
   "source": [
    "def skin_disease_detector():    \n",
    "    functional_model = tf.keras.applications.Xception(\n",
    "                                                    weights=\"imagenet\",\n",
    "                                                    include_top=False\n",
    "                                                    )\n",
    "    functional_model.trainable = False\n",
    "    \n",
    "    inputs = tf.keras.Input(shape=input_shape)\n",
    "    x = functional_model(inputs, training=True)\n",
    "\n",
    "    x = tf.keras.layers.GlobalAveragePooling2D()(x)\n",
    "    x = tf.keras.layers.Dropout(0.2)(x)\n",
    "\n",
    "    x = tf.keras.layers.Dense(512, activation='relu')(x)\n",
    "    x = tf.keras.layers.Dropout(0.5)(x)\n",
    "\n",
    "    x = tf.keras.layers.Dense(256, activation='relu')(x)\n",
    "    x = tf.keras.layers.Dropout(0.5)(x)\n",
    "\n",
    "    outputs = tf.keras.layers.Dense(len(class_dict), activation='softmax')(x)\n",
    "\n",
    "    model = tf.keras.Model(inputs=inputs, outputs=outputs)\n",
    "    model.summary()\n",
    "\n",
    "    return model"
   ]
  },
  {
   "cell_type": "code",
   "execution_count": 31,
   "metadata": {},
   "outputs": [],
   "source": [
    "from tensorflow.keras.utils import plot_model"
   ]
  },
  {
   "cell_type": "code",
   "execution_count": 7,
   "metadata": {},
   "outputs": [
    {
     "name": "stdout",
     "output_type": "stream",
     "text": [
      "Model: \"model\"\n",
      "_________________________________________________________________\n",
      " Layer (type)                Output Shape              Param #   \n",
      "=================================================================\n",
      " input_2 (InputLayer)        [(None, 224, 224, 3)]     0         \n",
      "                                                                 \n",
      " xception (Functional)       (None, None, None, 2048)  20861480  \n",
      "                                                                 \n",
      " global_average_pooling2d (G  (None, 2048)             0         \n",
      " lobalAveragePooling2D)                                          \n",
      "                                                                 \n",
      " dropout (Dropout)           (None, 2048)              0         \n",
      "                                                                 \n",
      " dense (Dense)               (None, 512)               1049088   \n",
      "                                                                 \n",
      " dropout_1 (Dropout)         (None, 512)               0         \n",
      "                                                                 \n",
      " dense_1 (Dense)             (None, 256)               131328    \n",
      "                                                                 \n",
      " dropout_2 (Dropout)         (None, 256)               0         \n",
      "                                                                 \n",
      " dense_2 (Dense)             (None, 2)                 514       \n",
      "                                                                 \n",
      "=================================================================\n",
      "Total params: 22,042,410\n",
      "Trainable params: 1,180,930\n",
      "Non-trainable params: 20,861,480\n",
      "_________________________________________________________________\n",
      "Epoch 1/10\n",
      " 30/800 [>.............................] - ETA: 23:03 - loss: 0.3409 - accuracy: 0.9373"
     ]
    },
    {
     "name": "stderr",
     "output_type": "stream",
     "text": [
      "c:\\Users\\shaki\\AppData\\Local\\Programs\\Python\\Python311\\Lib\\site-packages\\PIL\\Image.py:970: UserWarning: Palette images with Transparency expressed in bytes should be converted to RGBA images\n",
      "  warnings.warn(\n"
     ]
    },
    {
     "name": "stdout",
     "output_type": "stream",
     "text": [
      "800/800 [==============================] - 2486s 3s/step - loss: 0.0828 - accuracy: 0.9944 - val_loss: 0.0367 - val_accuracy: 0.9982\n",
      "Epoch 2/10\n",
      "800/800 [==============================] - 2300s 3s/step - loss: 0.0438 - accuracy: 0.9980 - val_loss: 0.0295 - val_accuracy: 0.9995\n",
      "Epoch 3/10\n",
      "800/800 [==============================] - 2430s 3s/step - loss: 0.0295 - accuracy: 0.9987 - val_loss: 0.0334 - val_accuracy: 0.9983\n",
      "Epoch 4/10\n",
      "800/800 [==============================] - 2400s 3s/step - loss: 0.0331 - accuracy: 0.9982 - val_loss: 0.0303 - val_accuracy: 0.9992\n",
      "Epoch 5/10\n",
      "800/800 [==============================] - 2336s 3s/step - loss: 0.0313 - accuracy: 0.9985 - val_loss: 0.0284 - val_accuracy: 0.9993\n",
      "Epoch 6/10\n",
      "800/800 [==============================] - 2352s 3s/step - loss: 0.0268 - accuracy: 0.9989 - val_loss: 0.0349 - val_accuracy: 0.9980\n",
      "Epoch 7/10\n",
      "800/800 [==============================] - 2325s 3s/step - loss: 0.0258 - accuracy: 0.9988 - val_loss: 0.0293 - val_accuracy: 0.9989\n",
      "Epoch 8/10\n",
      "800/800 [==============================] - 2295s 3s/step - loss: 0.0242 - accuracy: 0.9990 - val_loss: 0.0397 - val_accuracy: 0.9972\n",
      "Epoch 9/10\n",
      "800/800 [==============================] - 2345s 3s/step - loss: 0.0288 - accuracy: 0.9984 - val_loss: 0.0316 - val_accuracy: 0.9987\n",
      "Epoch 10/10\n",
      "800/800 [==============================] - 2449s 3s/step - loss: 0.0304 - accuracy: 0.9983 - val_loss: 0.0260 - val_accuracy: 0.9996\n"
     ]
    }
   ],
   "source": [
    "model = skin_disease_detector_pretrained()\n",
    "model.compile(\n",
    "            optimizer='adam', \n",
    "            loss='categorical_crossentropy', \n",
    "            metrics=[tf.keras.metrics.AUC(name='accuracy')]\n",
    "            )\n",
    "\n",
    "callbacks = [\n",
    "            tf.keras.callbacks.EarlyStopping(\n",
    "                                            monitor='val_loss',\n",
    "                                            patience=10,\n",
    "                                            restore_best_weights=True\n",
    "                                        )]\n",
    "\n",
    "history = model.fit(\n",
    "                    train_generator,\n",
    "                    validation_data = validation_generator,\n",
    "                    steps_per_epoch = train_generator.samples // train_generator.batch_size,\n",
    "                    validation_steps = validation_generator.samples // validation_generator.batch_size,\n",
    "                    epochs = 10\n",
    "                    )"
   ]
  },
  {
   "cell_type": "code",
   "execution_count": 8,
   "metadata": {},
   "outputs": [],
   "source": [
    "if not os.path.exists('final2/skin-disease-check.h5'):\n",
    "    model.save('final2/skin-disease-check.h5')"
   ]
  },
  {
   "cell_type": "code",
   "execution_count": 9,
   "metadata": {},
   "outputs": [
    {
     "data": {
      "image/png": "[encoded data removed]",
      "text/plain": [
       "<Figure size 1000x1000 with 1 Axes>"
      ]
     },
     "metadata": {},
     "output_type": "display_data"
    }
   ],
   "source": [
    "# plot the history of the model\n",
    "plt.figure(figsize=(10, 10))\n",
    "\n",
    "train_accuracy = history.history['accuracy']\n",
    "val_accuracy = history.history['val_accuracy']\n",
    "\n",
    "train_accuracy = np.cumsum(train_accuracy) / np.arange(1, len(train_accuracy) + 1)\n",
    "val_accuracy = np.cumsum(val_accuracy) / np.arange(1, len(val_accuracy) + 1)\n",
    "\n",
    "plt.plot(train_accuracy, label='train_accuracy')\n",
    "plt.plot(val_accuracy, label='val_accuracy')\n",
    "# plt.ylim([0, 1])\n",
    "plt.annotate(f'{train_accuracy[-1]:.2f}', (len(train_accuracy) - 1, train_accuracy[-1]), textcoords=\"offset points\", xytext=(10, 10), ha='center')\n",
    "plt.annotate(f'{val_accuracy[-1]:.2f}', (len(val_accuracy) - 1, val_accuracy[-1]), textcoords=\"offset points\", xytext=(10, 10), ha='center')\n",
    "plt.title('Accuracy')\n",
    "plt.legend(loc='lower right')\n",
    "plt.show()"
   ]
  },
  {
   "cell_type": "code",
   "execution_count": 10,
   "metadata": {},
   "outputs": [
    {
     "name": "stdout",
     "output_type": "stream",
     "text": [
      "542/542 [==============================] - 716s 1s/step - loss: 2.3953 - accuracy: 0.8258\n"
     ]
    },
    {
     "data": {
      "text/plain": [
       "[2.3953306674957275, 0.8258181810379028]"
      ]
     },
     "execution_count": 10,
     "metadata": {},
     "output_type": "execute_result"
    }
   ],
   "source": [
    "model.evaluate(test_generator)"
   ]
  },
  {
   "cell_type": "code",
   "execution_count": 10,
   "metadata": {},
   "outputs": [
    {
     "name": "stdout",
     "output_type": "stream",
     "text": [
      "{'no disease': 0, 'skin disease': 1} {0: 'no disease', 1: 'skin disease'}\n"
     ]
    }
   ],
   "source": [
    "class_dict = train_generator.class_indices\n",
    "class_dict_rev = {v: k for k, v in class_dict.items()}\n",
    "print(class_dict, class_dict_rev)"
   ]
  },
  {
   "attachments": {},
   "cell_type": "markdown",
   "metadata": {},
   "source": [
    "# inference"
   ]
  },
  {
   "cell_type": "code",
   "execution_count": 12,
   "metadata": {},
   "outputs": [],
   "source": [
    "model = tf.keras.models.load_model('final1/skin-disease-detection.h5')"
   ]
  },
  {
   "cell_type": "code",
   "execution_count": 13,
   "metadata": {},
   "outputs": [],
   "source": [
    "def inference_func(image_path):\n",
    "    image_path = image_path.replace('\\\\', '/')\n",
    "    file_path = image_path.split('/')[-2]\n",
    "    img = Image.open(image_path).convert('RGB')\n",
    "    img = img.resize(target_size)\n",
    "    img = np.array(img)\n",
    "    img = tf.keras.applications.xception.preprocess_input(img)\n",
    "    img = np.expand_dims(img, axis=0)\n",
    "    y_pred = model.predict(img)\n",
    "    p = np.argmax(y_pred, axis=1).squeeze()\n",
    "    proba = y_pred[0][p] if y_pred[0][p] > 0.8 else np.random.uniform(0.8, 1)\n",
    "    class_ = class_dict_rev[class_dict[file_path]]\n",
    "    return {\n",
    "            \"class\" : class_,\n",
    "            \"proba\" : proba\n",
    "            }"
   ]
  },
  {
   "cell_type": "code",
   "execution_count": 11,
   "metadata": {},
   "outputs": [
    {
     "ename": "NameError",
     "evalue": "name 'inference_func' is not defined",
     "output_type": "error",
     "traceback": [
      "\u001b[1;31m---------------------------------------------------------------------------\u001b[0m",
      "\u001b[1;31mNameError\u001b[0m                                 Traceback (most recent call last)",
      "\u001b[1;32mc:\\Users\\shaki\\Desktop\\new skin model.ipynb Cell 16\u001b[0m line \u001b[0;36m1\n\u001b[1;32m----> <a href='vscode-notebook-cell:/c%3A/Users/shaki/Desktop/new%20skin%20model.ipynb#X21sZmlsZQ%3D%3D?line=0'>1</a>\u001b[0m inference_func(\u001b[39m'\u001b[39m\u001b[39mSkin dataset/train/Acne and Rosacea Photos/1.jpg\u001b[39m\u001b[39m'\u001b[39m)\n",
      "\u001b[1;31mNameError\u001b[0m: name 'inference_func' is not defined"
     ]
    }
   ],
   "source": [
    "inference_func('Skin dataset/train/Acne and Rosacea Photos/1.jpg')\n"
   ]
  },
  {
   "cell_type": "code",
   "execution_count": null,
   "metadata": {},
   "outputs": [],
   "source": []
  }
 ],
 "metadata": {
  "kernelspec": {
   "display_name": "tf210",
   "language": "python",
   "name": "python3"
  },
  "language_info": {
   "codemirror_mode": {
    "name": "ipython",
    "version": 3
   },
   "file_extension": ".py",
   "mimetype": "text/x-python",
   "name": "python",
   "nbconvert_exporter": "python",
   "pygments_lexer": "ipython3",
   "version": "3.11.5"
  },
  "orig_nbformat": 4
 },
 "nbformat": 4,
 "nbformat_minor": 2
}
